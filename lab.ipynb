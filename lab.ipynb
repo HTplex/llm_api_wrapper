{
 "cells": [
  {
   "cell_type": "code",
   "execution_count": 1,
   "id": "ef7279ab-3ed2-4eac-82a3-66ba91897ed5",
   "metadata": {},
   "outputs": [],
   "source": [
    "from os.path import join, expanduser\n",
    "import json\n",
    "from pprint import pprint\n",
    "API_KEY_JSON_PATH = expanduser(\"~/.ssh/api_keys.json\")\n",
    "with open(API_KEY_JSON_PATH, 'r') as fp:\n",
    "    api_keys = json.load(fp)\n",
    "api_keys = {\"openai\": api_keys[\"OPENAI-API-KEY\"][\"api_key\"],\n",
    "            \"openrouter\": api_keys[\"OPENROUTER-API-KEY\"][\"api_key\"],\n",
    "            \"deepseek\": api_keys[\"DEEPSEEK-API-KEY\"][\"api_key\"]}\n"
   ]
  },
  {
   "cell_type": "code",
   "execution_count": 2,
   "id": "279b53c5",
   "metadata": {},
   "outputs": [
    {
     "data": {
      "text/plain": [
       "'The capital of France is Paris.'"
      ]
     },
     "execution_count": 2,
     "metadata": {},
     "output_type": "execute_result"
    }
   ],
   "source": [
    "from llmw.wrappers import OpenAIWrapper\n",
    "\n",
    "ow = OpenAIWrapper(api_keys)\n",
    "ow.run(\"gpt-4o\", \"You are a helpful assistant.\", \"What is the capital of France?\")\n"
   ]
  },
  {
   "cell_type": "code",
   "execution_count": null,
   "id": "6424c89c",
   "metadata": {},
   "outputs": [
    {
     "name": "stderr",
     "output_type": "stream",
     "text": [
      "  0%|                                                                                                                        | 0/1000 [00:00<?, ?it/s]\n"
     ]
    },
    {
     "ename": "KeyError",
     "evalue": "'model'",
     "output_type": "error",
     "traceback": [
      "\u001b[31m---------------------------------------------------------------------------\u001b[39m",
      "\u001b[31mRemoteTraceback\u001b[39m                           Traceback (most recent call last)",
      "\u001b[31mRemoteTraceback\u001b[39m: \n\"\"\"\nTraceback (most recent call last):\n  File \"/opt/homebrew/Caskroom/miniforge/base/envs/law/lib/python3.11/site-packages/multiprocess/pool.py\", line 125, in worker\n    result = (True, func(*args, **kwds))\n                    ^^^^^^^^^^^^^^^^^^^\n  File \"/opt/homebrew/Caskroom/miniforge/base/envs/law/lib/python3.11/site-packages/pathos/helpers/mp_helper.py\", line 15, in <lambda>\n    func = lambda args: f(*args)\n                        ^^^^^^^^\n  File \"/Users/htplex/Developer/ht/llm_api_wrapper/llmw/wrappers.py\", line 38, in run_job\n    \"result\": self.run(job[\"model\"], job[\"system_prompt\"], job[\"prompt\"])\n                       ~~~^^^^^^^^^\nKeyError: 'model'\n\"\"\"",
      "\nThe above exception was the direct cause of the following exception:\n",
      "\u001b[31mKeyError\u001b[39m                                  Traceback (most recent call last)",
      "\u001b[36mCell\u001b[39m\u001b[36m \u001b[39m\u001b[32mIn[3]\u001b[39m\u001b[32m, line 37\u001b[39m\n\u001b[32m     29\u001b[39m         jobs.append({\n\u001b[32m     30\u001b[39m             \u001b[33m\"\u001b[39m\u001b[33mtag\u001b[39m\u001b[33m\"\u001b[39m: \u001b[33m\"\u001b[39m\u001b[38;5;132;01m{}\u001b[39;00m\u001b[33m:\u001b[39m\u001b[38;5;132;01m{}\u001b[39;00m\u001b[33m:\u001b[39m\u001b[38;5;132;01m{}\u001b[39;00m\u001b[33m\"\u001b[39m.format(\u001b[33m\"\u001b[39m\u001b[33msolve\u001b[39m\u001b[33m\"\u001b[39m,model,idx),\n\u001b[32m     31\u001b[39m             \u001b[33m\"\u001b[39m\u001b[33msystem_prompt\u001b[39m\u001b[33m\"\u001b[39m: \u001b[33m\"\u001b[39m\u001b[33m你是一个助手。\u001b[39m\u001b[33m\"\u001b[39m,\n\u001b[32m     32\u001b[39m             \u001b[33m\"\u001b[39m\u001b[33mprompt\u001b[39m\u001b[33m\"\u001b[39m: solve[\u001b[33m\"\u001b[39m\u001b[33mquestion\u001b[39m\u001b[33m\"\u001b[39m]\n\u001b[32m     33\u001b[39m         })\n\u001b[32m     36\u001b[39m \u001b[38;5;28;01mwith\u001b[39;00m ProcessingPool(nodes=\u001b[32m128\u001b[39m) \u001b[38;5;28;01mas\u001b[39;00m pool:\n\u001b[32m---> \u001b[39m\u001b[32m37\u001b[39m     results = \u001b[38;5;28;43mlist\u001b[39;49m\u001b[43m(\u001b[49m\u001b[43mtqdm\u001b[49m\u001b[43m(\u001b[49m\u001b[43mpool\u001b[49m\u001b[43m.\u001b[49m\u001b[43mimap\u001b[49m\u001b[43m(\u001b[49m\u001b[43mow\u001b[49m\u001b[43m.\u001b[49m\u001b[43mrun_job\u001b[49m\u001b[43m,\u001b[49m\u001b[43m \u001b[49m\u001b[43mjobs\u001b[49m\u001b[43m)\u001b[49m\u001b[43m,\u001b[49m\u001b[43m \u001b[49m\u001b[43mtotal\u001b[49m\u001b[43m=\u001b[49m\u001b[38;5;28;43mlen\u001b[39;49m\u001b[43m(\u001b[49m\u001b[43mjobs\u001b[49m\u001b[43m)\u001b[49m\u001b[43m)\u001b[49m\u001b[43m)\u001b[49m\n\u001b[32m     38\u001b[39m \u001b[38;5;28;01mwith\u001b[39;00m \u001b[38;5;28mopen\u001b[39m(\u001b[33m\"\u001b[39m\u001b[33m./tmp/gen_results.json\u001b[39m\u001b[33m\"\u001b[39m, \u001b[33m'\u001b[39m\u001b[33mw\u001b[39m\u001b[33m'\u001b[39m) \u001b[38;5;28;01mas\u001b[39;00m fp:\n\u001b[32m     39\u001b[39m     json.dump(results, fp, sort_keys=\u001b[38;5;28;01mTrue\u001b[39;00m, indent=\u001b[32m4\u001b[39m, ensure_ascii=\u001b[38;5;28;01mFalse\u001b[39;00m)\n",
      "\u001b[36mFile \u001b[39m\u001b[32m/opt/homebrew/Caskroom/miniforge/base/envs/law/lib/python3.11/site-packages/tqdm/std.py:1181\u001b[39m, in \u001b[36mtqdm.__iter__\u001b[39m\u001b[34m(self)\u001b[39m\n\u001b[32m   1178\u001b[39m time = \u001b[38;5;28mself\u001b[39m._time\n\u001b[32m   1180\u001b[39m \u001b[38;5;28;01mtry\u001b[39;00m:\n\u001b[32m-> \u001b[39m\u001b[32m1181\u001b[39m \u001b[43m    \u001b[49m\u001b[38;5;28;43;01mfor\u001b[39;49;00m\u001b[43m \u001b[49m\u001b[43mobj\u001b[49m\u001b[43m \u001b[49m\u001b[38;5;129;43;01min\u001b[39;49;00m\u001b[43m \u001b[49m\u001b[43miterable\u001b[49m\u001b[43m:\u001b[49m\n\u001b[32m   1182\u001b[39m \u001b[43m        \u001b[49m\u001b[38;5;28;43;01myield\u001b[39;49;00m\u001b[43m \u001b[49m\u001b[43mobj\u001b[49m\n\u001b[32m   1183\u001b[39m \u001b[43m        \u001b[49m\u001b[38;5;66;43;03m# Update and possibly print the progressbar.\u001b[39;49;00m\n\u001b[32m   1184\u001b[39m \u001b[43m        \u001b[49m\u001b[38;5;66;43;03m# Note: does not call self.update(1) for speed optimisation.\u001b[39;49;00m\n",
      "\u001b[36mFile \u001b[39m\u001b[32m/opt/homebrew/Caskroom/miniforge/base/envs/law/lib/python3.11/site-packages/multiprocess/pool.py:873\u001b[39m, in \u001b[36mIMapIterator.next\u001b[39m\u001b[34m(self, timeout)\u001b[39m\n\u001b[32m    871\u001b[39m \u001b[38;5;28;01mif\u001b[39;00m success:\n\u001b[32m    872\u001b[39m     \u001b[38;5;28;01mreturn\u001b[39;00m value\n\u001b[32m--> \u001b[39m\u001b[32m873\u001b[39m \u001b[38;5;28;01mraise\u001b[39;00m value\n",
      "\u001b[31mKeyError\u001b[39m: 'model'"
     ]
    }
   ],
   "source": [
    "\n",
    "from pathos.multiprocessing import ProcessingPool\n",
    "from tqdm import tqdm\n",
    "import json\n",
    "\n",
    "with open(\"./tmp/human_check_gen.json\") as fp:\n",
    "    gens = json.load(fp)\n",
    "with open(\"./tmp/human_check_solve.json\") as fp:\n",
    "    solves = json.load(fp)\n",
    "\n",
    "# Define the list of models to iterate over for each generation\n",
    "job_models = [\n",
    "    \"gpt-4o\",\n",
    "    \"deepseek-r1\",\n",
    "    \"qwen3-8b\",\n",
    "    \"glm-z1-9b\",\n",
    "    \"deepseek-r1d-llama-8b\"\n",
    "]\n",
    "# Build the jobs list by iterating over each generation and model combination\n",
    "jobs = []\n",
    "for idx, gen in enumerate(gens):\n",
    "    for model in job_models:\n",
    "        jobs.append({\n",
    "            \"tag\": \"{}:{}:{}\".format(\"gen\",model,idx),\n",
    "            \"model\": model,\n",
    "            \"system_prompt\": \"你是一个助手。\",\n",
    "            \"prompt\": gen[\"question\"]\n",
    "        })\n",
    "for idx, solve in enumerate(solves):\n",
    "    for model in job_models:\n",
    "        jobs.append({\n",
    "            \"tag\": \"{}:{}:{}\".format(\"solve\",model,idx),\n",
    "            \"model\": model,\n",
    "            \"system_prompt\": \"你是一个助手。\",\n",
    "            \"prompt\": solve[\"question\"]\n",
    "        })\n",
    "\n",
    "\n",
    "with ProcessingPool(nodes=128) as pool:\n",
    "    results = list(tqdm(pool.imap(ow.run_job, jobs), total=len(jobs)))\n",
    "with open(\"./tmp/gen_results.json\", 'w') as fp:\n",
    "    json.dump(results, fp, sort_keys=True, indent=4, ensure_ascii=False)"
   ]
  },
  {
   "cell_type": "code",
   "execution_count": 8,
   "id": "1b74670b",
   "metadata": {},
   "outputs": [
    {
     "name": "stdout",
     "output_type": "stream",
     "text": [
      "Collecting pathos\n",
      "  Downloading pathos-0.3.4-py3-none-any.whl.metadata (11 kB)\n",
      "Collecting ppft>=1.7.7 (from pathos)\n",
      "  Downloading ppft-1.7.7-py3-none-any.whl.metadata (12 kB)\n",
      "Collecting dill>=0.4.0 (from pathos)\n",
      "  Downloading dill-0.4.0-py3-none-any.whl.metadata (10 kB)\n",
      "Collecting pox>=0.3.6 (from pathos)\n",
      "  Downloading pox-0.3.6-py3-none-any.whl.metadata (8.0 kB)\n",
      "Collecting multiprocess>=0.70.18 (from pathos)\n",
      "  Downloading multiprocess-0.70.18-py311-none-any.whl.metadata (7.5 kB)\n",
      "Downloading pathos-0.3.4-py3-none-any.whl (82 kB)\n",
      "Downloading dill-0.4.0-py3-none-any.whl (119 kB)\n",
      "Downloading multiprocess-0.70.18-py311-none-any.whl (144 kB)\n",
      "Downloading pox-0.3.6-py3-none-any.whl (29 kB)\n",
      "Downloading ppft-1.7.7-py3-none-any.whl (56 kB)\n",
      "Installing collected packages: ppft, pox, dill, multiprocess, pathos\n",
      "\u001b[2K   \u001b[38;2;114;156;31m━━━━━━━━━━━━━━━━━━━━━━━━━━━━━━━━━━━━━━━━\u001b[0m \u001b[32m5/5\u001b[0m [pathos]━━━━\u001b[0m \u001b[32m4/5\u001b[0m [pathos]\n",
      "\u001b[1A\u001b[2KSuccessfully installed dill-0.4.0 multiprocess-0.70.18 pathos-0.3.4 pox-0.3.6 ppft-1.7.7\n"
     ]
    }
   ],
   "source": [
    "!pip install pathos"
   ]
  },
  {
   "cell_type": "code",
   "execution_count": null,
   "id": "f159a52c",
   "metadata": {},
   "outputs": [],
   "source": []
  }
 ],
 "metadata": {
  "kernelspec": {
   "display_name": "Python 3 (ipykernel)",
   "language": "python",
   "name": "python3"
  },
  "language_info": {
   "codemirror_mode": {
    "name": "ipython",
    "version": 3
   },
   "file_extension": ".py",
   "mimetype": "text/x-python",
   "name": "python",
   "nbconvert_exporter": "python",
   "pygments_lexer": "ipython3",
   "version": "3.11.12"
  }
 },
 "nbformat": 4,
 "nbformat_minor": 5
}
